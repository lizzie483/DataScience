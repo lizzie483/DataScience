{
 "cells": [
  {
   "cell_type": "code",
   "execution_count": 1,
   "metadata": {},
   "outputs": [
    {
     "name": "stdout",
     "output_type": "stream",
     "text": [
      "Wall time: 3.27 s\n"
     ]
    }
   ],
   "source": [
    "%%time\n",
    "#---------------- SET UP ------------\n",
    "\n",
    "import pandas as pd\n",
    "import numpy as np"
   ]
  },
  {
   "cell_type": "code",
   "execution_count": 2,
   "metadata": {},
   "outputs": [],
   "source": [
    "#all columns\n",
    "columns =  ['date', 'eco_id', 'fullVisitorId', 'visitId', 'device_deviceCategory',\n",
    "           'channelGrouping', 'hits_hour', 'geoNetwork_country',\n",
    "           'hits_page_hostname', 'hits_page_pagePath', 'hits_page_pageTitle',\n",
    "           'hits_time', 'nextTime']"
   ]
  },
  {
   "cell_type": "code",
   "execution_count": 3,
   "metadata": {},
   "outputs": [],
   "source": [
    "df_notas = pd.read_excel('201912_NotasARC_CORREO.xlsx')"
   ]
  },
  {
   "cell_type": "code",
   "execution_count": 4,
   "metadata": {
    "scrolled": true
   },
   "outputs": [
    {
     "data": {
      "text/plain": [
       "(2290, 21)"
      ]
     },
     "execution_count": 4,
     "metadata": {},
     "output_type": "execute_result"
    }
   ],
   "source": [
    "df_notas.shape"
   ]
  },
  {
   "cell_type": "code",
   "execution_count": 8,
   "metadata": {},
   "outputs": [
    {
     "data": {
      "text/html": [
       "<div>\n",
       "<style scoped>\n",
       "    .dataframe tbody tr th:only-of-type {\n",
       "        vertical-align: middle;\n",
       "    }\n",
       "\n",
       "    .dataframe tbody tr th {\n",
       "        vertical-align: top;\n",
       "    }\n",
       "\n",
       "    .dataframe thead th {\n",
       "        text-align: right;\n",
       "    }\n",
       "</style>\n",
       "<table border=\"1\" class=\"dataframe\">\n",
       "  <thead>\n",
       "    <tr style=\"text-align: right;\">\n",
       "      <th></th>\n",
       "      <th>Diario</th>\n",
       "      <th>Sección</th>\n",
       "      <th>Sub Sección</th>\n",
       "      <th>Fecha Creación</th>\n",
       "      <th>Hora Creación</th>\n",
       "      <th>Fecha Publicación</th>\n",
       "      <th>Hora Publicación</th>\n",
       "      <th>Creador Nota</th>\n",
       "      <th>Autor Nota</th>\n",
       "      <th>Autor de Publicación</th>\n",
       "      <th>...</th>\n",
       "      <th>URL</th>\n",
       "      <th>ID Nota</th>\n",
       "      <th>Cant. Imágenes</th>\n",
       "      <th>Cant. Videos</th>\n",
       "      <th>Tipo de Nota</th>\n",
       "      <th>Tipo de Contenido</th>\n",
       "      <th>Formato</th>\n",
       "      <th>Contenido</th>\n",
       "      <th>Núcleo</th>\n",
       "      <th>Género</th>\n",
       "    </tr>\n",
       "  </thead>\n",
       "  <tbody>\n",
       "  </tbody>\n",
       "</table>\n",
       "<p>0 rows × 21 columns</p>\n",
       "</div>"
      ],
      "text/plain": [
       "Empty DataFrame\n",
       "Columns: [Diario, Sección, Sub Sección, Fecha Creación, Hora Creación, Fecha Publicación, Hora Publicación, Creador Nota, Autor Nota, Autor de Publicación, Título Nota, URL, ID Nota, Cant. Imágenes, Cant. Videos, Tipo de Nota, Tipo de Contenido, Formato, Contenido, Núcleo, Género]\n",
       "Index: []\n",
       "\n",
       "[0 rows x 21 columns]"
      ]
     },
     "execution_count": 8,
     "metadata": {},
     "output_type": "execute_result"
    }
   ],
   "source": [
    "#PROOF OF MISSING DATA\n",
    "\n",
    "URLS = df['hits_page_pagePath']\n",
    "df_notas.loc[df_notas['URL']=='/peru/como-actualizar-la-foto-y-la-firma-en-el-dni-832115/']"
   ]
  },
  {
   "cell_type": "markdown",
   "metadata": {},
   "source": [
    "## BROWSER\n",
    "All hits or PV's for December 2019 - Brand: Correo(18)"
   ]
  },
  {
   "cell_type": "code",
   "execution_count": 5,
   "metadata": {},
   "outputs": [],
   "source": [
    "df_browser_1 = pd.read_csv(\"201912_Browsers_1.csv\", encoding = \"ISO-8859-1\")"
   ]
  },
  {
   "cell_type": "code",
   "execution_count": 6,
   "metadata": {},
   "outputs": [],
   "source": [
    "df_browser_2 = pd.read_csv(\"201912_Browsers_2.csv\", encoding = \"ISO-8859-1\")"
   ]
  },
  {
   "cell_type": "code",
   "execution_count": 7,
   "metadata": {},
   "outputs": [],
   "source": [
    "#JOINING BROWSERS\n",
    "frames = [df_browser_1,df_browser_2]\n",
    "df_browser =  pd.concat(frames)"
   ]
  },
  {
   "cell_type": "code",
   "execution_count": 8,
   "metadata": {},
   "outputs": [
    {
     "data": {
      "text/plain": [
       "Index(['date', 'eco_id', 'fullVisitorId', 'visitId', 'device_deviceCategory',\n",
       "       'channelGrouping', 'hits_hour', 'geoNetwork_country',\n",
       "       'hits_page_hostname', 'hits_page_pagePath', 'hits_page_pageTitle',\n",
       "       'hits_time', 'nextTime'],\n",
       "      dtype='object')"
      ]
     },
     "execution_count": 8,
     "metadata": {},
     "output_type": "execute_result"
    }
   ],
   "source": [
    "df_browser.columns"
   ]
  },
  {
   "cell_type": "code",
   "execution_count": 9,
   "metadata": {},
   "outputs": [
    {
     "name": "stdout",
     "output_type": "stream",
     "text": [
      "(4207719, 13)\n",
      "(6767741, 13)\n",
      "(10975460, 13)\n"
     ]
    }
   ],
   "source": [
    "print(df_browser_1.shape)\n",
    "print(df_browser_2.shape)\n",
    "print(df_browser.shape)"
   ]
  },
  {
   "cell_type": "code",
   "execution_count": 11,
   "metadata": {},
   "outputs": [
    {
     "name": "stdout",
     "output_type": "stream",
     "text": [
      "840\n"
     ]
    }
   ],
   "source": [
    "#Browser 1\n",
    "mask = (df_browser['eco_id'] != 'nologin-v')\n",
    "df_browser_ecoid = df_browser[mask]\n",
    "total_eco_id = df_browser_ecoid['eco_id'].unique().size\n",
    "print(total_eco_id)"
   ]
  },
  {
   "cell_type": "code",
   "execution_count": 12,
   "metadata": {},
   "outputs": [
    {
     "name": "stdout",
     "output_type": "stream",
     "text": [
      "5249811\n"
     ]
    }
   ],
   "source": [
    "#Browser\n",
    "#Usuarios en general que leyeron notas\n",
    "total_visitorsId=df_browser['fullVisitorId'].unique().size\n",
    "print(total_visitorsId)"
   ]
  },
  {
   "cell_type": "code",
   "execution_count": 13,
   "metadata": {},
   "outputs": [
    {
     "data": {
      "text/plain": [
       "0          6103288918787591369\n",
       "1          8701149146732803027\n",
       "2          5532695113265542489\n",
       "3           736768256399547509\n",
       "4          3960805398674924445\n",
       "                  ...         \n",
       "6767736    7344566447660218780\n",
       "6767737    5956764967025451732\n",
       "6767738    5956764967025451732\n",
       "6767739     250376120810072417\n",
       "6767740    2950806176478744597\n",
       "Name: fullVisitorId, Length: 10975460, dtype: uint64"
      ]
     },
     "execution_count": 13,
     "metadata": {},
     "output_type": "execute_result"
    }
   ],
   "source": [
    "df_browser['fullVisitorId']"
   ]
  },
  {
   "cell_type": "code",
   "execution_count": 18,
   "metadata": {},
   "outputs": [
    {
     "name": "stdout",
     "output_type": "stream",
     "text": [
      "All PV's from visitorID  6\n"
     ]
    },
    {
     "data": {
      "text/html": [
       "<div>\n",
       "<style scoped>\n",
       "    .dataframe tbody tr th:only-of-type {\n",
       "        vertical-align: middle;\n",
       "    }\n",
       "\n",
       "    .dataframe tbody tr th {\n",
       "        vertical-align: top;\n",
       "    }\n",
       "\n",
       "    .dataframe thead th {\n",
       "        text-align: right;\n",
       "    }\n",
       "</style>\n",
       "<table border=\"1\" class=\"dataframe\">\n",
       "  <thead>\n",
       "    <tr style=\"text-align: right;\">\n",
       "      <th></th>\n",
       "      <th>date</th>\n",
       "      <th>eco_id</th>\n",
       "      <th>fullVisitorId</th>\n",
       "      <th>visitId</th>\n",
       "      <th>device_deviceCategory</th>\n",
       "      <th>channelGrouping</th>\n",
       "      <th>hits_hour</th>\n",
       "      <th>geoNetwork_country</th>\n",
       "      <th>hits_page_hostname</th>\n",
       "      <th>hits_page_pagePath</th>\n",
       "      <th>hits_page_pageTitle</th>\n",
       "      <th>hits_time</th>\n",
       "      <th>nextTime</th>\n",
       "    </tr>\n",
       "  </thead>\n",
       "  <tbody>\n",
       "    <tr>\n",
       "      <td>1</td>\n",
       "      <td>20191205</td>\n",
       "      <td>nologin-v</td>\n",
       "      <td>8701149146732803027</td>\n",
       "      <td>1575596695</td>\n",
       "      <td>mobile</td>\n",
       "      <td>Organic Search</td>\n",
       "      <td>20</td>\n",
       "      <td>Peru</td>\n",
       "      <td>diariocorreo.pe</td>\n",
       "      <td>/peru/</td>\n",
       "      <td>Noticias de PerÃº | Correo</td>\n",
       "      <td>610214</td>\n",
       "      <td>NaN</td>\n",
       "    </tr>\n",
       "    <tr>\n",
       "      <td>896083</td>\n",
       "      <td>20191207</td>\n",
       "      <td>nologin-v</td>\n",
       "      <td>8701149146732803027</td>\n",
       "      <td>1575762524</td>\n",
       "      <td>mobile</td>\n",
       "      <td>Organic Search</td>\n",
       "      <td>19</td>\n",
       "      <td>Peru</td>\n",
       "      <td>diariocorreo.pe</td>\n",
       "      <td>/peru/</td>\n",
       "      <td>Noticias de PerÃº | Correo</td>\n",
       "      <td>1627712</td>\n",
       "      <td>NaN</td>\n",
       "    </tr>\n",
       "    <tr>\n",
       "      <td>1262487</td>\n",
       "      <td>20191205</td>\n",
       "      <td>nologin-v</td>\n",
       "      <td>8701149146732803027</td>\n",
       "      <td>1575600398</td>\n",
       "      <td>mobile</td>\n",
       "      <td>Organic Search</td>\n",
       "      <td>21</td>\n",
       "      <td>Peru</td>\n",
       "      <td>diariocorreo.pe</td>\n",
       "      <td>/peru/</td>\n",
       "      <td>Noticias de PerÃº | Correo</td>\n",
       "      <td>0</td>\n",
       "      <td>NaN</td>\n",
       "    </tr>\n",
       "    <tr>\n",
       "      <td>1682510</td>\n",
       "      <td>20191205</td>\n",
       "      <td>nologin-v</td>\n",
       "      <td>8701149146732803027</td>\n",
       "      <td>1575596695</td>\n",
       "      <td>mobile</td>\n",
       "      <td>Organic Search</td>\n",
       "      <td>20</td>\n",
       "      <td>Peru</td>\n",
       "      <td>diariocorreo.pe</td>\n",
       "      <td>/peru/</td>\n",
       "      <td>Noticias de PerÃº | Correo</td>\n",
       "      <td>449581</td>\n",
       "      <td>554505.0</td>\n",
       "    </tr>\n",
       "    <tr>\n",
       "      <td>2110148</td>\n",
       "      <td>20191205</td>\n",
       "      <td>nologin-v</td>\n",
       "      <td>8701149146732803027</td>\n",
       "      <td>1575596695</td>\n",
       "      <td>mobile</td>\n",
       "      <td>Organic Search</td>\n",
       "      <td>20</td>\n",
       "      <td>Peru</td>\n",
       "      <td>diariocorreo.pe</td>\n",
       "      <td>/edicion/lambayeque/fiscalia-inicia-investigac...</td>\n",
       "      <td>FiscalÃ­a inicia investigaciÃ³n por asesinato ...</td>\n",
       "      <td>554505</td>\n",
       "      <td>610214.0</td>\n",
       "    </tr>\n",
       "    <tr>\n",
       "      <td>3421045</td>\n",
       "      <td>20191207</td>\n",
       "      <td>nologin-v</td>\n",
       "      <td>8701149146732803027</td>\n",
       "      <td>1575722211</td>\n",
       "      <td>mobile</td>\n",
       "      <td>Organic Search</td>\n",
       "      <td>7</td>\n",
       "      <td>Peru</td>\n",
       "      <td>diariocorreo.pe</td>\n",
       "      <td>/peru/</td>\n",
       "      <td>Noticias de PerÃº | Correo</td>\n",
       "      <td>68299</td>\n",
       "      <td>NaN</td>\n",
       "    </tr>\n",
       "  </tbody>\n",
       "</table>\n",
       "</div>"
      ],
      "text/plain": [
       "             date     eco_id        fullVisitorId     visitId  \\\n",
       "1        20191205  nologin-v  8701149146732803027  1575596695   \n",
       "896083   20191207  nologin-v  8701149146732803027  1575762524   \n",
       "1262487  20191205  nologin-v  8701149146732803027  1575600398   \n",
       "1682510  20191205  nologin-v  8701149146732803027  1575596695   \n",
       "2110148  20191205  nologin-v  8701149146732803027  1575596695   \n",
       "3421045  20191207  nologin-v  8701149146732803027  1575722211   \n",
       "\n",
       "        device_deviceCategory channelGrouping  hits_hour geoNetwork_country  \\\n",
       "1                      mobile  Organic Search         20               Peru   \n",
       "896083                 mobile  Organic Search         19               Peru   \n",
       "1262487                mobile  Organic Search         21               Peru   \n",
       "1682510                mobile  Organic Search         20               Peru   \n",
       "2110148                mobile  Organic Search         20               Peru   \n",
       "3421045                mobile  Organic Search          7               Peru   \n",
       "\n",
       "        hits_page_hostname                                 hits_page_pagePath  \\\n",
       "1          diariocorreo.pe                                             /peru/   \n",
       "896083     diariocorreo.pe                                             /peru/   \n",
       "1262487    diariocorreo.pe                                             /peru/   \n",
       "1682510    diariocorreo.pe                                             /peru/   \n",
       "2110148    diariocorreo.pe  /edicion/lambayeque/fiscalia-inicia-investigac...   \n",
       "3421045    diariocorreo.pe                                             /peru/   \n",
       "\n",
       "                                       hits_page_pageTitle  hits_time  \\\n",
       "1                               Noticias de PerÃº | Correo     610214   \n",
       "896083                          Noticias de PerÃº | Correo    1627712   \n",
       "1262487                         Noticias de PerÃº | Correo          0   \n",
       "1682510                         Noticias de PerÃº | Correo     449581   \n",
       "2110148  FiscalÃ­a inicia investigaciÃ³n por asesinato ...     554505   \n",
       "3421045                         Noticias de PerÃº | Correo      68299   \n",
       "\n",
       "         nextTime  \n",
       "1             NaN  \n",
       "896083        NaN  \n",
       "1262487       NaN  \n",
       "1682510  554505.0  \n",
       "2110148  610214.0  \n",
       "3421045       NaN  "
      ]
     },
     "execution_count": 18,
     "metadata": {},
     "output_type": "execute_result"
    }
   ],
   "source": [
    "print(\"All PV's from visitorID \",len(df_browser[df_browser['fullVisitorId']==8701149146732803027]))\n",
    "df_browser[df_browser['fullVisitorId']==8701149146732803027]"
   ]
  },
  {
   "cell_type": "code",
   "execution_count": 40,
   "metadata": {
    "scrolled": true
   },
   "outputs": [
    {
     "data": {
      "text/plain": [
       "mobile     8030537\n",
       "desktop    2777621\n",
       "tablet      167302\n",
       "Name: device_deviceCategory, dtype: int64"
      ]
     },
     "execution_count": 40,
     "metadata": {},
     "output_type": "execute_result"
    }
   ],
   "source": [
    "df_browser.device_deviceCategory.value_counts()"
   ]
  },
  {
   "cell_type": "markdown",
   "metadata": {},
   "source": [
    "## Filtering\n",
    "\n",
    "Selecting only visitors with more than 5 PV's total"
   ]
  },
  {
   "cell_type": "code",
   "execution_count": 19,
   "metadata": {},
   "outputs": [],
   "source": [
    "#Set fullVisitorId as index\n",
    "df_browser=df_browser.set_index(['fullVisitorId'])\n",
    "\n",
    "col = ['date', 'eco_id', 'visitId', 'device_deviceCategory', 'channelGrouping',\n",
    "       'hits_hour', 'geoNetwork_country', 'hits_page_hostname',\n",
    "       'hits_page_pagePath', 'hits_page_pageTitle', 'hits_time', 'nextTime']"
   ]
  },
  {
   "cell_type": "code",
   "execution_count": 20,
   "metadata": {},
   "outputs": [
    {
     "name": "stdout",
     "output_type": "stream",
     "text": [
      "Starting....\n",
      "Filtered finished\n"
     ]
    }
   ],
   "source": [
    "print(\"Starting....\")\n",
    "filtered_browser = df_browser.groupby(level=0).filter(lambda x:len(x)>4)[col]\n",
    "print(\"Filtered finished\")"
   ]
  },
  {
   "cell_type": "code",
   "execution_count": 22,
   "metadata": {},
   "outputs": [
    {
     "data": {
      "text/plain": [
       "(4199080, 12)"
      ]
     },
     "execution_count": 22,
     "metadata": {},
     "output_type": "execute_result"
    }
   ],
   "source": [
    "filtered_browser.shape\n",
    "print()"
   ]
  },
  {
   "cell_type": "code",
   "execution_count": 23,
   "metadata": {},
   "outputs": [
    {
     "data": {
      "text/html": [
       "<div>\n",
       "<style scoped>\n",
       "    .dataframe tbody tr th:only-of-type {\n",
       "        vertical-align: middle;\n",
       "    }\n",
       "\n",
       "    .dataframe tbody tr th {\n",
       "        vertical-align: top;\n",
       "    }\n",
       "\n",
       "    .dataframe thead th {\n",
       "        text-align: right;\n",
       "    }\n",
       "</style>\n",
       "<table border=\"1\" class=\"dataframe\">\n",
       "  <thead>\n",
       "    <tr style=\"text-align: right;\">\n",
       "      <th></th>\n",
       "      <th>date</th>\n",
       "      <th>eco_id</th>\n",
       "      <th>visitId</th>\n",
       "      <th>device_deviceCategory</th>\n",
       "      <th>channelGrouping</th>\n",
       "      <th>hits_hour</th>\n",
       "      <th>geoNetwork_country</th>\n",
       "      <th>hits_page_hostname</th>\n",
       "      <th>hits_page_pagePath</th>\n",
       "      <th>hits_page_pageTitle</th>\n",
       "      <th>hits_time</th>\n",
       "      <th>nextTime</th>\n",
       "    </tr>\n",
       "    <tr>\n",
       "      <th>fullVisitorId</th>\n",
       "      <th></th>\n",
       "      <th></th>\n",
       "      <th></th>\n",
       "      <th></th>\n",
       "      <th></th>\n",
       "      <th></th>\n",
       "      <th></th>\n",
       "      <th></th>\n",
       "      <th></th>\n",
       "      <th></th>\n",
       "      <th></th>\n",
       "      <th></th>\n",
       "    </tr>\n",
       "  </thead>\n",
       "  <tbody>\n",
       "    <tr>\n",
       "      <td>8701149146732803027</td>\n",
       "      <td>20191205</td>\n",
       "      <td>nologin-v</td>\n",
       "      <td>1575596695</td>\n",
       "      <td>mobile</td>\n",
       "      <td>Organic Search</td>\n",
       "      <td>20</td>\n",
       "      <td>Peru</td>\n",
       "      <td>diariocorreo.pe</td>\n",
       "      <td>/peru/</td>\n",
       "      <td>Noticias de PerÃº | Correo</td>\n",
       "      <td>610214</td>\n",
       "      <td>NaN</td>\n",
       "    </tr>\n",
       "    <tr>\n",
       "      <td>5532695113265542489</td>\n",
       "      <td>20191205</td>\n",
       "      <td>nologin-v</td>\n",
       "      <td>1575585550</td>\n",
       "      <td>desktop</td>\n",
       "      <td>Organic Search</td>\n",
       "      <td>18</td>\n",
       "      <td>Peru</td>\n",
       "      <td>diariocorreo.pe</td>\n",
       "      <td>/peru/</td>\n",
       "      <td>Noticias de PerÃº | Correo</td>\n",
       "      <td>3680645</td>\n",
       "      <td>3775602.0</td>\n",
       "    </tr>\n",
       "    <tr>\n",
       "      <td>736768256399547509</td>\n",
       "      <td>20191205</td>\n",
       "      <td>nologin-v</td>\n",
       "      <td>1575594737</td>\n",
       "      <td>desktop</td>\n",
       "      <td>Organic Search</td>\n",
       "      <td>21</td>\n",
       "      <td>Peru</td>\n",
       "      <td>diariocorreo.pe</td>\n",
       "      <td>/peru/</td>\n",
       "      <td>Noticias de PerÃº | Correo</td>\n",
       "      <td>4139416</td>\n",
       "      <td>4176499.0</td>\n",
       "    </tr>\n",
       "    <tr>\n",
       "      <td>1497115112926984154</td>\n",
       "      <td>20191205</td>\n",
       "      <td>nologin-v</td>\n",
       "      <td>1575601349</td>\n",
       "      <td>desktop</td>\n",
       "      <td>Organic Search</td>\n",
       "      <td>22</td>\n",
       "      <td>Peru</td>\n",
       "      <td>diariocorreo.pe</td>\n",
       "      <td>/peru/</td>\n",
       "      <td>Noticias de PerÃº | Correo</td>\n",
       "      <td>270288</td>\n",
       "      <td>336598.0</td>\n",
       "    </tr>\n",
       "    <tr>\n",
       "      <td>7327692470311507714</td>\n",
       "      <td>20191205</td>\n",
       "      <td>nologin-v</td>\n",
       "      <td>1575593707</td>\n",
       "      <td>desktop</td>\n",
       "      <td>Organic Search</td>\n",
       "      <td>21</td>\n",
       "      <td>Peru</td>\n",
       "      <td>diariocorreo.pe</td>\n",
       "      <td>/peru/</td>\n",
       "      <td>Noticias de PerÃº | Correo</td>\n",
       "      <td>5187065</td>\n",
       "      <td>5195192.0</td>\n",
       "    </tr>\n",
       "    <tr>\n",
       "      <td>...</td>\n",
       "      <td>...</td>\n",
       "      <td>...</td>\n",
       "      <td>...</td>\n",
       "      <td>...</td>\n",
       "      <td>...</td>\n",
       "      <td>...</td>\n",
       "      <td>...</td>\n",
       "      <td>...</td>\n",
       "      <td>...</td>\n",
       "      <td>...</td>\n",
       "      <td>...</td>\n",
       "      <td>...</td>\n",
       "    </tr>\n",
       "    <tr>\n",
       "      <td>6588493775049045617</td>\n",
       "      <td>20191231</td>\n",
       "      <td>nologin-v</td>\n",
       "      <td>1577836608</td>\n",
       "      <td>mobile</td>\n",
       "      <td>Social</td>\n",
       "      <td>18</td>\n",
       "      <td>Peru</td>\n",
       "      <td>diariocorreo.pe</td>\n",
       "      <td>/espectaculos/instagram-viral-rodrigo-gonzalez...</td>\n",
       "      <td>Instagram viral | Rodrigo GonzÃ¡lez a MÃ³nica ...</td>\n",
       "      <td>0</td>\n",
       "      <td>NaN</td>\n",
       "    </tr>\n",
       "    <tr>\n",
       "      <td>5729863274949467370</td>\n",
       "      <td>20191231</td>\n",
       "      <td>nologin-v</td>\n",
       "      <td>1577770978</td>\n",
       "      <td>desktop</td>\n",
       "      <td>Social</td>\n",
       "      <td>0</td>\n",
       "      <td>Peru</td>\n",
       "      <td>diariocorreo.pe</td>\n",
       "      <td>/espectaculos/instagram-viral-rodrigo-gonzalez...</td>\n",
       "      <td>Instagram viral | Rodrigo GonzÃ¡lez a MÃ³nica ...</td>\n",
       "      <td>0</td>\n",
       "      <td>NaN</td>\n",
       "    </tr>\n",
       "    <tr>\n",
       "      <td>1184815108683639585</td>\n",
       "      <td>20191231</td>\n",
       "      <td>nologin-v</td>\n",
       "      <td>1577808455</td>\n",
       "      <td>desktop</td>\n",
       "      <td>Social</td>\n",
       "      <td>11</td>\n",
       "      <td>Peru</td>\n",
       "      <td>diariocorreo.pe</td>\n",
       "      <td>/espectaculos/instagram-viral-rodrigo-gonzalez...</td>\n",
       "      <td>Instagram viral | Rodrigo GonzÃ¡lez a MÃ³nica ...</td>\n",
       "      <td>1054140</td>\n",
       "      <td>NaN</td>\n",
       "    </tr>\n",
       "    <tr>\n",
       "      <td>5956764967025451732</td>\n",
       "      <td>20191231</td>\n",
       "      <td>nologin-v</td>\n",
       "      <td>1577792929</td>\n",
       "      <td>desktop</td>\n",
       "      <td>Organic Search</td>\n",
       "      <td>6</td>\n",
       "      <td>United States</td>\n",
       "      <td>diariocorreo.pe</td>\n",
       "      <td>/espectaculos/isabel-acevedo-pronuncio-supuest...</td>\n",
       "      <td>PÃ¡gina no encontrada | Correo</td>\n",
       "      <td>345765</td>\n",
       "      <td>345836.0</td>\n",
       "    </tr>\n",
       "    <tr>\n",
       "      <td>5956764967025451732</td>\n",
       "      <td>20191231</td>\n",
       "      <td>nologin-v</td>\n",
       "      <td>1577792929</td>\n",
       "      <td>desktop</td>\n",
       "      <td>Organic Search</td>\n",
       "      <td>6</td>\n",
       "      <td>United States</td>\n",
       "      <td>diariocorreo.pe</td>\n",
       "      <td>/espectaculos/isabel-acevedo-pronuncio-supuest...</td>\n",
       "      <td>PÃ¡gina no encontrada | Correo</td>\n",
       "      <td>344142</td>\n",
       "      <td>345765.0</td>\n",
       "    </tr>\n",
       "  </tbody>\n",
       "</table>\n",
       "<p>4199080 rows × 12 columns</p>\n",
       "</div>"
      ],
      "text/plain": [
       "                         date     eco_id     visitId device_deviceCategory  \\\n",
       "fullVisitorId                                                                \n",
       "8701149146732803027  20191205  nologin-v  1575596695                mobile   \n",
       "5532695113265542489  20191205  nologin-v  1575585550               desktop   \n",
       "736768256399547509   20191205  nologin-v  1575594737               desktop   \n",
       "1497115112926984154  20191205  nologin-v  1575601349               desktop   \n",
       "7327692470311507714  20191205  nologin-v  1575593707               desktop   \n",
       "...                       ...        ...         ...                   ...   \n",
       "6588493775049045617  20191231  nologin-v  1577836608                mobile   \n",
       "5729863274949467370  20191231  nologin-v  1577770978               desktop   \n",
       "1184815108683639585  20191231  nologin-v  1577808455               desktop   \n",
       "5956764967025451732  20191231  nologin-v  1577792929               desktop   \n",
       "5956764967025451732  20191231  nologin-v  1577792929               desktop   \n",
       "\n",
       "                    channelGrouping  hits_hour geoNetwork_country  \\\n",
       "fullVisitorId                                                       \n",
       "8701149146732803027  Organic Search         20               Peru   \n",
       "5532695113265542489  Organic Search         18               Peru   \n",
       "736768256399547509   Organic Search         21               Peru   \n",
       "1497115112926984154  Organic Search         22               Peru   \n",
       "7327692470311507714  Organic Search         21               Peru   \n",
       "...                             ...        ...                ...   \n",
       "6588493775049045617          Social         18               Peru   \n",
       "5729863274949467370          Social          0               Peru   \n",
       "1184815108683639585          Social         11               Peru   \n",
       "5956764967025451732  Organic Search          6      United States   \n",
       "5956764967025451732  Organic Search          6      United States   \n",
       "\n",
       "                    hits_page_hostname  \\\n",
       "fullVisitorId                            \n",
       "8701149146732803027    diariocorreo.pe   \n",
       "5532695113265542489    diariocorreo.pe   \n",
       "736768256399547509     diariocorreo.pe   \n",
       "1497115112926984154    diariocorreo.pe   \n",
       "7327692470311507714    diariocorreo.pe   \n",
       "...                                ...   \n",
       "6588493775049045617    diariocorreo.pe   \n",
       "5729863274949467370    diariocorreo.pe   \n",
       "1184815108683639585    diariocorreo.pe   \n",
       "5956764967025451732    diariocorreo.pe   \n",
       "5956764967025451732    diariocorreo.pe   \n",
       "\n",
       "                                                    hits_page_pagePath  \\\n",
       "fullVisitorId                                                            \n",
       "8701149146732803027                                             /peru/   \n",
       "5532695113265542489                                             /peru/   \n",
       "736768256399547509                                              /peru/   \n",
       "1497115112926984154                                             /peru/   \n",
       "7327692470311507714                                             /peru/   \n",
       "...                                                                ...   \n",
       "6588493775049045617  /espectaculos/instagram-viral-rodrigo-gonzalez...   \n",
       "5729863274949467370  /espectaculos/instagram-viral-rodrigo-gonzalez...   \n",
       "1184815108683639585  /espectaculos/instagram-viral-rodrigo-gonzalez...   \n",
       "5956764967025451732  /espectaculos/isabel-acevedo-pronuncio-supuest...   \n",
       "5956764967025451732  /espectaculos/isabel-acevedo-pronuncio-supuest...   \n",
       "\n",
       "                                                   hits_page_pageTitle  \\\n",
       "fullVisitorId                                                            \n",
       "8701149146732803027                         Noticias de PerÃº | Correo   \n",
       "5532695113265542489                         Noticias de PerÃº | Correo   \n",
       "736768256399547509                          Noticias de PerÃº | Correo   \n",
       "1497115112926984154                         Noticias de PerÃº | Correo   \n",
       "7327692470311507714                         Noticias de PerÃº | Correo   \n",
       "...                                                                ...   \n",
       "6588493775049045617  Instagram viral | Rodrigo GonzÃ¡lez a MÃ³nica ...   \n",
       "5729863274949467370  Instagram viral | Rodrigo GonzÃ¡lez a MÃ³nica ...   \n",
       "1184815108683639585  Instagram viral | Rodrigo GonzÃ¡lez a MÃ³nica ...   \n",
       "5956764967025451732                     PÃ¡gina no encontrada | Correo   \n",
       "5956764967025451732                     PÃ¡gina no encontrada | Correo   \n",
       "\n",
       "                     hits_time   nextTime  \n",
       "fullVisitorId                              \n",
       "8701149146732803027     610214        NaN  \n",
       "5532695113265542489    3680645  3775602.0  \n",
       "736768256399547509     4139416  4176499.0  \n",
       "1497115112926984154     270288   336598.0  \n",
       "7327692470311507714    5187065  5195192.0  \n",
       "...                        ...        ...  \n",
       "6588493775049045617          0        NaN  \n",
       "5729863274949467370          0        NaN  \n",
       "1184815108683639585    1054140        NaN  \n",
       "5956764967025451732     345765   345836.0  \n",
       "5956764967025451732     344142   345765.0  \n",
       "\n",
       "[4199080 rows x 12 columns]"
      ]
     },
     "execution_count": 23,
     "metadata": {},
     "output_type": "execute_result"
    }
   ],
   "source": [
    "filtered_browser"
   ]
  },
  {
   "cell_type": "code",
   "execution_count": 62,
   "metadata": {
    "scrolled": true
   },
   "outputs": [
    {
     "data": {
      "text/plain": [
       "348"
      ]
     },
     "execution_count": 62,
     "metadata": {},
     "output_type": "execute_result"
    }
   ],
   "source": [
    "visitor = 736768256399547509\n",
    "temp= df_browser.loc[(df_browser.fullVisitorId==visitor)]\n",
    "temp.shape[0]"
   ]
  }
 ],
 "metadata": {
  "kernelspec": {
   "display_name": "Python 3",
   "language": "python",
   "name": "python3"
  },
  "language_info": {
   "codemirror_mode": {
    "name": "ipython",
    "version": 3
   },
   "file_extension": ".py",
   "mimetype": "text/x-python",
   "name": "python",
   "nbconvert_exporter": "python",
   "pygments_lexer": "ipython3",
   "version": "3.7.4"
  }
 },
 "nbformat": 4,
 "nbformat_minor": 2
}
